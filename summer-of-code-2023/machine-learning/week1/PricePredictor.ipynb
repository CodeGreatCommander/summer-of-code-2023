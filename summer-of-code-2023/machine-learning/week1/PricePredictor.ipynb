{
  "nbformat": 4,
  "nbformat_minor": 0,
  "metadata": {
    "colab": {
      "provenance": [],
      "authorship_tag": "ABX9TyMoGpRLs7gwAspL6f9cE3PP",
      "include_colab_link": true
    },
    "kernelspec": {
      "name": "python3",
      "display_name": "Python 3"
    },
    "language_info": {
      "name": "python"
    }
  },
  "cells": [
    {
      "cell_type": "markdown",
      "metadata": {
        "id": "view-in-github",
        "colab_type": "text"
      },
      "source": [
        "<a href=\"https://colab.research.google.com/github/CodeGreatCommander/summer-of-code-2023/blob/main/summer-of-code-2023/machine-learning/week1/PricePredictor.ipynb\" target=\"_parent\"><img src=\"https://colab.research.google.com/assets/colab-badge.svg\" alt=\"Open In Colab\"/></a>"
      ]
    },
    {
      "cell_type": "markdown",
      "source": [
        "#Web Scrapping"
      ],
      "metadata": {
        "id": "wazX64EmNi9T"
      }
    },
    {
      "cell_type": "markdown",
      "source": [
        "## Downloading Modules"
      ],
      "metadata": {
        "id": "ia3BRpXvNwyF"
      }
    },
    {
      "cell_type": "code",
      "source": [
        "!pip install bs4"
      ],
      "metadata": {
        "colab": {
          "base_uri": "https://localhost:8080/"
        },
        "id": "xq3XCDvPNmIz",
        "outputId": "e2cef874-9fdd-4003-bdd4-6f4da42fb03f"
      },
      "execution_count": 1,
      "outputs": [
        {
          "output_type": "stream",
          "name": "stdout",
          "text": [
            "Looking in indexes: https://pypi.org/simple, https://us-python.pkg.dev/colab-wheels/public/simple/\n",
            "Requirement already satisfied: bs4 in /usr/local/lib/python3.10/dist-packages (0.0.1)\n",
            "Requirement already satisfied: beautifulsoup4 in /usr/local/lib/python3.10/dist-packages (from bs4) (4.11.2)\n",
            "Requirement already satisfied: soupsieve>1.2 in /usr/local/lib/python3.10/dist-packages (from beautifulsoup4->bs4) (2.4.1)\n"
          ]
        }
      ]
    },
    {
      "cell_type": "code",
      "source": [
        "!pip install requests"
      ],
      "metadata": {
        "colab": {
          "base_uri": "https://localhost:8080/"
        },
        "id": "5sJt-t-wOD_-",
        "outputId": "a1d94c47-29eb-4815-b8fb-352c7ef6214b"
      },
      "execution_count": 2,
      "outputs": [
        {
          "output_type": "stream",
          "name": "stdout",
          "text": [
            "Looking in indexes: https://pypi.org/simple, https://us-python.pkg.dev/colab-wheels/public/simple/\n",
            "Requirement already satisfied: requests in /usr/local/lib/python3.10/dist-packages (2.27.1)\n",
            "Requirement already satisfied: urllib3<1.27,>=1.21.1 in /usr/local/lib/python3.10/dist-packages (from requests) (1.26.15)\n",
            "Requirement already satisfied: certifi>=2017.4.17 in /usr/local/lib/python3.10/dist-packages (from requests) (2022.12.7)\n",
            "Requirement already satisfied: charset-normalizer~=2.0.0 in /usr/local/lib/python3.10/dist-packages (from requests) (2.0.12)\n",
            "Requirement already satisfied: idna<4,>=2.5 in /usr/local/lib/python3.10/dist-packages (from requests) (3.4)\n"
          ]
        }
      ]
    },
    {
      "cell_type": "code",
      "source": [
        "!pip install pandas"
      ],
      "metadata": {
        "colab": {
          "base_uri": "https://localhost:8080/"
        },
        "id": "QdvZjw3QOG7h",
        "outputId": "fc2d95e5-ad37-4b5f-c8b2-5864feea0e46"
      },
      "execution_count": 3,
      "outputs": [
        {
          "output_type": "stream",
          "name": "stdout",
          "text": [
            "Looking in indexes: https://pypi.org/simple, https://us-python.pkg.dev/colab-wheels/public/simple/\n",
            "Requirement already satisfied: pandas in /usr/local/lib/python3.10/dist-packages (1.5.3)\n",
            "Requirement already satisfied: python-dateutil>=2.8.1 in /usr/local/lib/python3.10/dist-packages (from pandas) (2.8.2)\n",
            "Requirement already satisfied: pytz>=2020.1 in /usr/local/lib/python3.10/dist-packages (from pandas) (2022.7.1)\n",
            "Requirement already satisfied: numpy>=1.21.0 in /usr/local/lib/python3.10/dist-packages (from pandas) (1.22.4)\n",
            "Requirement already satisfied: six>=1.5 in /usr/local/lib/python3.10/dist-packages (from python-dateutil>=2.8.1->pandas) (1.16.0)\n"
          ]
        }
      ]
    },
    {
      "cell_type": "code",
      "source": [
        "from bs4 import BeautifulSoup\n",
        "import pandas as pd\n",
        "import requests\n",
        "import numpy as np"
      ],
      "metadata": {
        "id": "ux2yK3psORg9"
      },
      "execution_count": 4,
      "outputs": []
    },
    {
      "cell_type": "markdown",
      "source": [
        "##Links to pages"
      ],
      "metadata": {
        "id": "ZCB9T-DgPGhI"
      }
    },
    {
      "cell_type": "code",
      "source": [
        "URL=\"https://www.amazon.in/s?k=phones&i=electronics&crid=2O0SXX23Q0T0F&sprefix=phone%2Celectronics%2C313&ref=nb_sb_noss_1\"\n",
        "HEADERS=({'User-Agent':'Mozilla/5.0 (Windows NT 10.0; Win64; x64) AppleWebKit/537.36 (KHTML, like Gecko) Chrome/114.0.0.0 Safari/537.36','Accept-Language':'en-US, en;q=0.5'})"
      ],
      "metadata": {
        "id": "4zA5q0KEPKpJ"
      },
      "execution_count": 5,
      "outputs": []
    },
    {
      "cell_type": "code",
      "source": [
        "webpage=requests.get(URL,headers=HEADERS)\n",
        "webpage"
      ],
      "metadata": {
        "colab": {
          "base_uri": "https://localhost:8080/"
        },
        "id": "nvhXQ7QPaoAz",
        "outputId": "fb27b51d-987a-427b-f69e-fa96ddd774d2"
      },
      "execution_count": 6,
      "outputs": [
        {
          "output_type": "execute_result",
          "data": {
            "text/plain": [
              "<Response [200]>"
            ]
          },
          "metadata": {},
          "execution_count": 6
        }
      ]
    },
    {
      "cell_type": "code",
      "source": [
        "soup=BeautifulSoup(webpage.content,'html.parser')\n",
        "links=soup.find_all(\"a\",attrs={'class':'a-link-normal s-underline-text s-underline-link-text s-link-style a-text-normal'})"
      ],
      "metadata": {
        "id": "Z1ZEp3Cqa8Na"
      },
      "execution_count": 7,
      "outputs": []
    },
    {
      "cell_type": "code",
      "source": [
        "print(links)"
      ],
      "metadata": {
        "colab": {
          "base_uri": "https://localhost:8080/"
        },
        "id": "VtxKXbTMeqHx",
        "outputId": "d9e50e3a-2ffa-4011-b0a5-2e05d230ad4d"
      },
      "execution_count": 8,
      "outputs": [
        {
          "output_type": "stream",
          "name": "stdout",
          "text": [
            "[<a class=\"a-link-normal s-underline-text s-underline-link-text s-link-style a-text-normal\" href=\"/Samsung-Storage-MediaTek-Octa-core-Processor/dp/B0BMGB2TPR/ref=sr_1_1?crid=2O0SXX23Q0T0F&amp;keywords=phones&amp;qid=1687281543&amp;s=electronics&amp;sprefix=phone%2Celectronics%2C313&amp;sr=1-1\" target=\"_blank\"><span class=\"a-size-medium a-color-base a-text-normal\">Samsung Galaxy M04 Light Green, 4GB RAM, 64GB Storage | Upto 8GB RAM with RAM Plus | MediaTek Helio P35 Octa-core Processor | 5000 mAh Battery | 13MP Dual Camera</span> </a>, <a class=\"a-link-normal s-underline-text s-underline-link-text s-link-style a-text-normal\" href=\"/realme-Storage-Octa-core-Processor-Battery/dp/B0BBM7L888/ref=sr_1_2?crid=2O0SXX23Q0T0F&amp;keywords=phones&amp;qid=1687281543&amp;s=electronics&amp;sprefix=phone%2Celectronics%2C313&amp;sr=1-2\" target=\"_blank\"><span class=\"a-size-medium a-color-base a-text-normal\">realme narzo 50i Prime (Dark Blue 4GB RAM+64GB Storage) Octa-core Processor | 5000 mAh Battery</span> </a>, <a class=\"a-link-normal s-underline-text s-underline-link-text s-link-style a-text-normal\" href=\"/realme-Storage-Processor-Triple-Display/dp/B09RMN7HY3/ref=sr_1_3?crid=2O0SXX23Q0T0F&amp;keywords=phones&amp;qid=1687281543&amp;s=electronics&amp;sprefix=phone%2Celectronics%2C313&amp;sr=1-3\" target=\"_blank\"><span class=\"a-size-medium a-color-base a-text-normal\">realme narzo 50 (Speed Black, 6GB RAM+128GB Storage) Helio G96 Processor | 50MP AI Triple Camera | 120Hz Ultra Smooth Display</span> </a>, <a class=\"a-link-normal s-underline-text s-underline-link-text s-link-style a-text-normal\" href=\"/Nokia-Android-Smartphone-All-Day-Capacity/dp/B0BW5QRCPG/ref=sr_1_4?crid=2O0SXX23Q0T0F&amp;keywords=phones&amp;qid=1687281543&amp;s=electronics&amp;sprefix=phone%2Celectronics%2C313&amp;sr=1-4\" target=\"_blank\"><span class=\"a-size-medium a-color-base a-text-normal\">Nokia C12 Android 12 (Go Edition) Smartphone, All-Day Battery, 4GB RAM (2GB RAM + 2GB Virtual RAM) + 64GB Capacity | Light Mint</span> </a>, <a class=\"a-link-normal s-underline-text s-underline-link-text s-link-style a-text-normal\" href=\"/Samsung-Midnight-Storage-6000mAh-Battery/dp/B0B4F52B5X/ref=sr_1_5?crid=2O0SXX23Q0T0F&amp;keywords=phones&amp;qid=1687281543&amp;s=electronics&amp;sprefix=phone%2Celectronics%2C313&amp;sr=1-5\" target=\"_blank\"><span class=\"a-size-medium a-color-base a-text-normal\">Samsung Galaxy M13 (Midnight Blue, 4GB, 64GB Storage) | 6000mAh Battery | Upto 8GB RAM with RAM Plus</span> </a>, <a class=\"a-link-normal s-underline-text s-underline-link-text s-link-style a-text-normal\" href=\"/Samsung-Storage-MediaTek-Octa-core-Processor/dp/B0BMGB3CH9/ref=sr_1_6?crid=2O0SXX23Q0T0F&amp;keywords=phones&amp;qid=1687281543&amp;s=electronics&amp;sprefix=phone%2Celectronics%2C313&amp;sr=1-6\" target=\"_blank\"><span class=\"a-size-medium a-color-base a-text-normal\">Samsung Galaxy M04 Dark Blue, 4GB RAM, 64GB Storage | Upto 8GB RAM with RAM Plus | MediaTek Helio P35 Octa-core Processor | 5000 mAh Battery | 13MP Dual Camera</span> </a>, <a class=\"a-link-normal s-underline-text s-underline-link-text s-link-style a-text-normal\" href=\"/OnePlus-Titan-Black-128GB-Storage/dp/B0BQJMRXQV/ref=sr_1_7?crid=2O0SXX23Q0T0F&amp;keywords=phones&amp;qid=1687281543&amp;s=electronics&amp;sprefix=phone%2Celectronics%2C313&amp;sr=1-7\" target=\"_blank\"><span class=\"a-size-medium a-color-base a-text-normal\">OnePlus 11 5G (Titan Black, 8GB RAM, 128GB Storage)</span> </a>, <a class=\"a-link-normal s-underline-text s-underline-link-text s-link-style a-text-normal\" href=\"/realme-Segment-Fastest-Charging-High-res/dp/B0BZ48VZMR/ref=sr_1_8?crid=2O0SXX23Q0T0F&amp;keywords=phones&amp;qid=1687281543&amp;s=electronics&amp;sprefix=phone%2Celectronics%2C313&amp;sr=1-8\" target=\"_blank\"><span class=\"a-size-medium a-color-base a-text-normal\">realme narzo N55 (Prime Black, 4GB+64GB) 33W Segment Fastest Charging | Super High-res 64MP Primary AI Camera</span> </a>, <a class=\"a-link-normal s-underline-text s-underline-link-text s-link-style a-text-normal\" href=\"/Redmi-Mystique-AMOLED-Snapdragon%C2%AE-Triple/dp/B0BQ3PJJDQ/ref=sr_1_9?crid=2O0SXX23Q0T0F&amp;keywords=phones&amp;qid=1687281543&amp;s=electronics&amp;sprefix=phone%2Celectronics%2C313&amp;sr=1-9\" target=\"_blank\"><span class=\"a-size-medium a-color-base a-text-normal\">Redmi Note 12 5G Mystique Blue 4GB RAM 128GB ROM | 1st Phone with 120Hz Super AMOLED and Snapdragon® 4 Gen 1 | 48MP AI Triple Camera</span> </a>, <a class=\"a-link-normal s-underline-text s-underline-link-text s-link-style a-text-normal\" href=\"/Samsung-Midnight-Storage-6000mAh-Battery/dp/B0B4F38D6K/ref=sr_1_10?crid=2O0SXX23Q0T0F&amp;keywords=phones&amp;qid=1687281543&amp;s=electronics&amp;sprefix=phone%2Celectronics%2C313&amp;sr=1-10\" target=\"_blank\"><span class=\"a-size-medium a-color-base a-text-normal\">Samsung Galaxy M13 (Midnight Blue, 6GB, 128GB Storage) | 6000mAh Battery | Upto 12GB RAM with RAM Plus</span> </a>, <a class=\"a-link-normal s-underline-text s-underline-link-text s-link-style a-text-normal\" href=\"/iQOO-Stellar-Snapdragon-Segment-Included/dp/B07WHSR1NR/ref=sr_1_11?crid=2O0SXX23Q0T0F&amp;keywords=phones&amp;qid=1687281543&amp;s=electronics&amp;sprefix=phone%2Celectronics%2C313&amp;sr=1-11\" target=\"_blank\"><span class=\"a-size-medium a-color-base a-text-normal\">iQOO Z6 Lite 5G (Stellar Green, 6GB RAM, 128GB Storage) with Charger | World's First Snapdragon 4 Gen 1 | Best in-Segment 120Hz Refresh Rate | Travel Adaptor Included in The Box</span> </a>, <a class=\"a-link-normal s-underline-text s-underline-link-text s-link-style a-text-normal\" href=\"/Samsung-Storage-MediaTek-Octa-core-Processor/dp/B0BMGG6NKT/ref=sr_1_12?crid=2O0SXX23Q0T0F&amp;keywords=phones&amp;qid=1687281543&amp;s=electronics&amp;sprefix=phone%2Celectronics%2C313&amp;sr=1-12\" target=\"_blank\"><span class=\"a-size-medium a-color-base a-text-normal\">Samsung Galaxy M04 Dark Blue, 4GB RAM, 128GB Storage | Upto 8GB RAM with RAM Plus | MediaTek Helio P35 Octa-core Processor | 5000 mAh Battery | 13MP Dual Camera</span> </a>, <a class=\"a-link-normal s-underline-text s-underline-link-text s-link-style a-text-normal\" href=\"/NOKIA-110-TA-1434-DS-Charcoal/dp/B0B2LR7P8L/ref=sr_1_13?crid=2O0SXX23Q0T0F&amp;keywords=phones&amp;qid=1687281543&amp;s=electronics&amp;sprefix=phone%2Celectronics%2C313&amp;sr=1-13\" target=\"_blank\"><span class=\"a-size-medium a-color-base a-text-normal\">Nokia 110 Dual sim Keypad Phone with Wireless FM Radio, Free Earphone, Snake Game, Auto Call Recording, 1 Year Replacement Guarantee | Charcoal</span> </a>, <a class=\"a-link-normal s-underline-text s-underline-link-text s-link-style a-text-normal\" href=\"/Samsung-Storage-MediaTek-Octa-core-Processor/dp/B0BMGC6LHP/ref=sr_1_14?crid=2O0SXX23Q0T0F&amp;keywords=phones&amp;qid=1687281543&amp;s=electronics&amp;sprefix=phone%2Celectronics%2C313&amp;sr=1-14\" target=\"_blank\"><span class=\"a-size-medium a-color-base a-text-normal\">Samsung Galaxy M04 Light Green, 4GB RAM, 128GB Storage | Upto 8GB RAM with RAM Plus | MediaTek Helio P35 Octa-core Processor | 5000 mAh Battery | 13MP Dual Camera</span> </a>, <a class=\"a-link-normal s-underline-text s-underline-link-text s-link-style a-text-normal\" href=\"/Nokia-2660-keypad-inbuilt-Wireless/dp/B0B9YK24TF/ref=sr_1_15?crid=2O0SXX23Q0T0F&amp;keywords=phones&amp;qid=1687281543&amp;s=electronics&amp;sprefix=phone%2Celectronics%2C313&amp;sr=1-15\" target=\"_blank\"><span class=\"a-size-medium a-color-base a-text-normal\">Nokia 2660 Flip 4G Volte keypad Phone with Dual SIM, Dual Screen, inbuilt MP3 Player &amp; Wireless FM Radio | Black</span> </a>, <a class=\"a-link-normal s-underline-text s-underline-link-text s-link-style a-text-normal\" href=\"/Redmi-Storage-Powerful-Processor-Warranty/dp/B0C46GD5V7/ref=sr_1_16?crid=2O0SXX23Q0T0F&amp;keywords=phones&amp;qid=1687281543&amp;s=electronics&amp;sprefix=phone%2Celectronics%2C313&amp;sr=1-16\" target=\"_blank\"><span class=\"a-size-medium a-color-base a-text-normal\">Redmi A2 (Aqua Blue, 4GB RAM, 64GB Storage) | Powerful Octa Core G36 Processor | Upto 7GB RAM | Large 16.5 cm HD+ Display with Massive 5000mAh Battery | 2 Years Warranty [Limited time Offer]</span> </a>, <a class=\"a-link-normal s-underline-text s-underline-link-text s-link-style a-text-normal\" href=\"/Redmi-Lavender-Storage-Performance-Mediatek/dp/B0BYN5555J/ref=sr_1_17?crid=2O0SXX23Q0T0F&amp;keywords=phones&amp;qid=1687281543&amp;s=electronics&amp;sprefix=phone%2Celectronics%2C313&amp;sr=1-17\" target=\"_blank\"><span class=\"a-size-medium a-color-base a-text-normal\">Redmi 12C (Lavender Purple, 4GB RAM, 64GB Storage) | High Performance Mediatek Helio G85 | Big 17cm(6.71) HD+ Display with 5000mAh(typ) Battery</span> </a>, <a class=\"a-link-normal s-underline-text s-underline-link-text s-link-style a-text-normal\" href=\"/realme-Segment-Fastest-Charging-High-res/dp/B0BZ479WZD/ref=sr_1_18?crid=2O0SXX23Q0T0F&amp;keywords=phones&amp;qid=1687281543&amp;s=electronics&amp;sprefix=phone%2Celectronics%2C313&amp;sr=1-18\" target=\"_blank\"><span class=\"a-size-medium a-color-base a-text-normal\">realme narzo N55 (Prime Blue, 4GB+64GB) 33W Segment Fastest Charging | Super High-res 64MP Primary AI Camera</span> </a>, <a class=\"a-link-normal s-underline-text s-underline-link-text s-link-style a-text-normal\" href=\"/Redmi-Mystique-AMOLED-Snapdragon%C2%AE-Triple/dp/B0BQ3PYMCZ/ref=sr_1_19?crid=2O0SXX23Q0T0F&amp;keywords=phones&amp;qid=1687281543&amp;s=electronics&amp;sprefix=phone%2Celectronics%2C313&amp;sr=1-19\" target=\"_blank\"><span class=\"a-size-medium a-color-base a-text-normal\">Redmi Note 12 5G Mystique Blue 6GB RAM 128GB ROM | 1st Phone with 120Hz Super AMOLED and Snapdragon® 4 Gen 1 | 48MP AI Triple Camera</span> </a>, <a class=\"a-link-normal s-underline-text s-underline-link-text s-link-style a-text-normal\" href=\"/realme-Storage-Octa-core-Processor-Battery/dp/B0BBMBL64D/ref=sr_1_20?crid=2O0SXX23Q0T0F&amp;keywords=phones&amp;qid=1687281543&amp;s=electronics&amp;sprefix=phone%2Celectronics%2C313&amp;sr=1-20\" target=\"_blank\"><span class=\"a-size-medium a-color-base a-text-normal\">realme narzo 50i Prime (Mint Green 3GB RAM+32GB Storage) Octa-core Processor | 5000 mAh Battery</span> </a>, <a class=\"a-link-normal s-underline-text s-underline-link-text s-link-style a-text-normal\" href=\"/Samsung-Galaxy-Storage-6000mAh-Battery/dp/B0B4F2XCK3/ref=sr_1_21?crid=2O0SXX23Q0T0F&amp;keywords=phones&amp;qid=1687281543&amp;s=electronics&amp;sprefix=phone%2Celectronics%2C313&amp;sr=1-21\" target=\"_blank\"><span class=\"a-size-medium a-color-base a-text-normal\">Samsung Galaxy M13 (Aqua Green, 6GB, 128GB Storage) | 6000mAh Battery | Upto 12GB RAM with RAM Plus</span> </a>, <a class=\"a-link-normal s-underline-text s-underline-link-text s-link-style a-text-normal\" href=\"/Redmi-Storage-Performance-Mediatek-Display/dp/B0BYN48MQW/ref=sr_1_22?crid=2O0SXX23Q0T0F&amp;keywords=phones&amp;qid=1687281543&amp;s=electronics&amp;sprefix=phone%2Celectronics%2C313&amp;sr=1-22\" target=\"_blank\"><span class=\"a-size-medium a-color-base a-text-normal\">Redmi 12C (Royal Blue, 4GB RAM, 64GB Storage) | High Performance Mediatek Helio G85 | Big 17cm(6.71) HD+ Display with 5000mAh(typ) Battery</span> </a>, <a class=\"a-link-normal s-underline-text s-underline-link-text s-link-style a-text-normal\" href=\"/Nokia-105-Single-Keypad-Wireless/dp/B0BV28X1KS/ref=sr_1_23?crid=2O0SXX23Q0T0F&amp;keywords=phones&amp;qid=1687281543&amp;s=electronics&amp;sprefix=phone%2Celectronics%2C313&amp;sr=1-23\" target=\"_blank\"><span class=\"a-size-medium a-color-base a-text-normal\">Nokia 105 Single SIM, Keypad Mobile Phone with Wireless FM Radio | Blue</span> </a>, <a class=\"a-link-normal s-underline-text s-underline-link-text s-link-style a-text-normal\" href=\"/Oppo-Glowing-SUPERVOOC-Additional-Exchange/dp/B082FSKYCV/ref=sr_1_24?crid=2O0SXX23Q0T0F&amp;keywords=phones&amp;qid=1687281543&amp;s=electronics&amp;sprefix=phone%2Celectronics%2C313&amp;sr=1-24\" target=\"_blank\"><span class=\"a-size-medium a-color-base a-text-normal\">Oppo A78 5G (Glowing Black, 8GB RAM, 128 Storage) | 5000 mAh Battery with 33W SUPERVOOC Charger| 50MP AI Camera | 90Hz Refresh Rate | with No Cost EMI/Additional Exchange Offers</span> </a>, <a class=\"a-link-normal s-underline-text s-underline-link-text s-link-style a-text-normal\" href=\"/realme-Storage-Octa-core-Processor-Battery/dp/B0BBM7L888/ref=sxbs_aspa_sqa?c_c=1580471489&amp;content-id=amzn1.sym.d773eb55-c232-4473-97eb-b4446fa7c90c%3Aamzn1.sym.d773eb55-c232-4473-97eb-b4446fa7c90c&amp;crid=2O0SXX23Q0T0F&amp;cv_ct_cx=phones&amp;keywords=phones&amp;pd_rd_i=B0BBM7L888&amp;pd_rd_r=1618f8d4-d9bd-4ce7-9eef-715a540fbf0c&amp;pd_rd_w=G54N4&amp;pd_rd_wg=u4Quo&amp;pf_rd_p=d773eb55-c232-4473-97eb-b4446fa7c90c&amp;pf_rd_r=DPKBP53SPGMQ9NFECAG2&amp;qid=1687281543&amp;s=electronics&amp;sprefix=phone%2Celectronics%2C313&amp;sr=1-1-465c17cd-1aa5-42d8-a3c3-dba481fdef42\" target=\"_blank\"><span class=\"a-size-base-plus a-color-base a-text-normal\">realme narzo 50i Prime (Dark Blue 4GB RAM+64GB Storage) Octa-core Processor | 5000 mAh Battery</span> </a>, <a class=\"a-link-normal s-underline-text s-underline-link-text s-link-style a-text-normal\" href=\"/realme-Storage-Processor-Triple-Display/dp/B09RMN7HY3/ref=sxbs_aspa_sqa?c_c=1580471489&amp;content-id=amzn1.sym.d773eb55-c232-4473-97eb-b4446fa7c90c%3Aamzn1.sym.d773eb55-c232-4473-97eb-b4446fa7c90c&amp;crid=2O0SXX23Q0T0F&amp;cv_ct_cx=phones&amp;keywords=phones&amp;pd_rd_i=B09RMN7HY3&amp;pd_rd_r=1618f8d4-d9bd-4ce7-9eef-715a540fbf0c&amp;pd_rd_w=G54N4&amp;pd_rd_wg=u4Quo&amp;pf_rd_p=d773eb55-c232-4473-97eb-b4446fa7c90c&amp;pf_rd_r=DPKBP53SPGMQ9NFECAG2&amp;qid=1687281543&amp;s=electronics&amp;sprefix=phone%2Celectronics%2C313&amp;sr=1-3-465c17cd-1aa5-42d8-a3c3-dba481fdef42\" target=\"_blank\"><span class=\"a-size-base-plus a-color-base a-text-normal\">realme narzo 50 (Speed Black, 6GB RAM+128GB Storage) Helio G96 Processor | 50MP AI Triple Camera | 120Hz Ultra Smooth Display</span> </a>, <a class=\"a-link-normal s-underline-text s-underline-link-text s-link-style a-text-normal\" href=\"/Samsung-Midnight-Storage-6000mAh-Battery/dp/B0B4F52B5X/ref=sxbs_aspa_sqa?c_c=1580471489&amp;content-id=amzn1.sym.d773eb55-c232-4473-97eb-b4446fa7c90c%3Aamzn1.sym.d773eb55-c232-4473-97eb-b4446fa7c90c&amp;crid=2O0SXX23Q0T0F&amp;cv_ct_cx=phones&amp;keywords=phones&amp;pd_rd_i=B0B4F52B5X&amp;pd_rd_r=1618f8d4-d9bd-4ce7-9eef-715a540fbf0c&amp;pd_rd_w=G54N4&amp;pd_rd_wg=u4Quo&amp;pf_rd_p=d773eb55-c232-4473-97eb-b4446fa7c90c&amp;pf_rd_r=DPKBP53SPGMQ9NFECAG2&amp;qid=1687281543&amp;s=electronics&amp;sprefix=phone%2Celectronics%2C313&amp;sr=1-5-465c17cd-1aa5-42d8-a3c3-dba481fdef42\" target=\"_blank\"><span class=\"a-size-base-plus a-color-base a-text-normal\">Samsung Galaxy M13 (Midnight Blue, 4GB, 64GB Storage) | 6000mAh Battery | Upto 8GB RAM with RAM Plus</span> </a>, <a class=\"a-link-normal s-underline-text s-underline-link-text s-link-style a-text-normal\" href=\"/Redmi-Segment-5000mAh-Battery-Leather/dp/B0BBN3WF7V/ref=sxbs_aspa_sqa?c_c=1580471489&amp;content-id=amzn1.sym.d773eb55-c232-4473-97eb-b4446fa7c90c%3Aamzn1.sym.d773eb55-c232-4473-97eb-b4446fa7c90c&amp;crid=2O0SXX23Q0T0F&amp;cv_ct_cx=phones&amp;keywords=phones&amp;pd_rd_i=B0BBN3WF7V&amp;pd_rd_r=1618f8d4-d9bd-4ce7-9eef-715a540fbf0c&amp;pd_rd_w=G54N4&amp;pd_rd_wg=u4Quo&amp;pf_rd_p=d773eb55-c232-4473-97eb-b4446fa7c90c&amp;pf_rd_r=DPKBP53SPGMQ9NFECAG2&amp;qid=1687281543&amp;s=electronics&amp;sprefix=phone%2Celectronics%2C313&amp;sr=1-7-465c17cd-1aa5-42d8-a3c3-dba481fdef42\" target=\"_blank\"><span class=\"a-size-base-plus a-color-base a-text-normal\">Redmi A1 (Light Green, 2GB RAM 32GB ROM) | Segment Best AI Dual Cam | 5000mAh Battery | Leather Texture Design | Android 12</span> </a>, <a class=\"a-link-normal s-underline-text s-underline-link-text s-link-style a-text-normal\" href=\"/Microfiber-Compatible-13-Protective-Shockproof/dp/B09ZQJGH9M/ref=sxbs_aspa_sqa?c_c=-926748181&amp;content-id=amzn1.sym.d773eb55-c232-4473-97eb-b4446fa7c90c%3Aamzn1.sym.d773eb55-c232-4473-97eb-b4446fa7c90c&amp;crid=2O0SXX23Q0T0F&amp;cv_ct_cx=phones&amp;keywords=phones&amp;pd_rd_i=B09ZQJGH9M&amp;pd_rd_r=1618f8d4-d9bd-4ce7-9eef-715a540fbf0c&amp;pd_rd_w=G54N4&amp;pd_rd_wg=u4Quo&amp;pf_rd_p=d773eb55-c232-4473-97eb-b4446fa7c90c&amp;pf_rd_r=DPKBP53SPGMQ9NFECAG2&amp;qid=1687281543&amp;s=electronics&amp;sprefix=phone%2Celectronics%2C313&amp;sr=1-2-465c17cd-1aa5-42d8-a3c3-dba481fdef42\" target=\"_blank\"><span class=\"a-size-base-plus a-color-base a-text-normal\">Elzzi Microfiber Logo Cut Cover Compatible for iPhone 13 Case Cushion Liquid Soft Silicone Gel Rubber Phone Cases Non-Slip Full Body Protective Shockproof Back Cover 6.1 inch, Mist Blue</span> </a>, <a class=\"a-link-normal s-underline-text s-underline-link-text s-link-style a-text-normal\" href=\"/EGOTUDE-Silicone-Camera-Protection-Microfiber/dp/B0BGSYVGKK/ref=sxbs_aspa_sqa?c_c=-926748181&amp;content-id=amzn1.sym.d773eb55-c232-4473-97eb-b4446fa7c90c%3Aamzn1.sym.d773eb55-c232-4473-97eb-b4446fa7c90c&amp;crid=2O0SXX23Q0T0F&amp;cv_ct_cx=phones&amp;keywords=phones&amp;pd_rd_i=B0BGSYVGKK&amp;pd_rd_r=1618f8d4-d9bd-4ce7-9eef-715a540fbf0c&amp;pd_rd_w=G54N4&amp;pd_rd_wg=u4Quo&amp;pf_rd_p=d773eb55-c232-4473-97eb-b4446fa7c90c&amp;pf_rd_r=DPKBP53SPGMQ9NFECAG2&amp;qid=1687281543&amp;s=electronics&amp;sprefix=phone%2Celectronics%2C313&amp;sr=1-4-465c17cd-1aa5-42d8-a3c3-dba481fdef42\" target=\"_blank\"><span class=\"a-size-base-plus a-color-base a-text-normal\">EGOTUDE Silicone Soft Case Camera Protection Microfiber Lining Back Cover for iPhone 14 Pro Max (Deep Purple)</span> </a>, <a class=\"a-link-normal s-underline-text s-underline-link-text s-link-style a-text-normal\" href=\"/elago-Compatible-Protective-Shockproof-Anti-Scratch/dp/B09D339LSQ/ref=sxbs_aspa_sqa?c_c=-926748181&amp;content-id=amzn1.sym.d773eb55-c232-4473-97eb-b4446fa7c90c%3Aamzn1.sym.d773eb55-c232-4473-97eb-b4446fa7c90c&amp;crid=2O0SXX23Q0T0F&amp;cv_ct_cx=phones&amp;keywords=phones&amp;pd_rd_i=B09D339LSQ&amp;pd_rd_r=1618f8d4-d9bd-4ce7-9eef-715a540fbf0c&amp;pd_rd_w=G54N4&amp;pd_rd_wg=u4Quo&amp;pf_rd_p=d773eb55-c232-4473-97eb-b4446fa7c90c&amp;pf_rd_r=DPKBP53SPGMQ9NFECAG2&amp;qid=1687281543&amp;s=electronics&amp;sprefix=phone%2Celectronics%2C313&amp;sr=1-6-465c17cd-1aa5-42d8-a3c3-dba481fdef42\" target=\"_blank\"><span class=\"a-size-base-plus a-color-base a-text-normal\">elago Shockproof Liquid Silicone Slim Phone Case with Anti-Scratch Soft Microfiber Lining, Full Body Screen Camera Protective Case Cover, Compatible for iPhone 13 Pro Max 6.7 inches (Stone)</span> </a>, <a class=\"a-link-normal s-underline-text s-underline-link-text s-link-style a-text-normal\" href=\"/DIZORO-Compatible-iPhone-14-Microfiber/dp/B0BVHTBWZF/ref=sxbs_aspa_sqa?c_c=-926748181&amp;content-id=amzn1.sym.d773eb55-c232-4473-97eb-b4446fa7c90c%3Aamzn1.sym.d773eb55-c232-4473-97eb-b4446fa7c90c&amp;crid=2O0SXX23Q0T0F&amp;cv_ct_cx=phones&amp;keywords=phones&amp;pd_rd_i=B0BVHTBWZF&amp;pd_rd_r=1618f8d4-d9bd-4ce7-9eef-715a540fbf0c&amp;pd_rd_w=G54N4&amp;pd_rd_wg=u4Quo&amp;pf_rd_p=d773eb55-c232-4473-97eb-b4446fa7c90c&amp;pf_rd_r=DPKBP53SPGMQ9NFECAG2&amp;qid=1687281543&amp;s=electronics&amp;sprefix=phone%2Celectronics%2C313&amp;sr=1-8-465c17cd-1aa5-42d8-a3c3-dba481fdef42\" target=\"_blank\"><span class=\"a-size-base-plus a-color-base a-text-normal\">DIZORO Liquid Silicone Compatible for iPhone 14 Case Gel Rubber with Microfiber Lining Non-Slip Full Body Protective Shockproof Back Cover (Lilac, 6.1 inch)</span> </a>]\n"
          ]
        }
      ]
    },
    {
      "cell_type": "code",
      "source": [
        "for i in range(len(links)):\n",
        "  links[i]='https://amazon.in'+ links[i].get('href')"
      ],
      "metadata": {
        "id": "JTSw3s2Rcqnf"
      },
      "execution_count": 9,
      "outputs": []
    },
    {
      "cell_type": "markdown",
      "source": [
        "##Extracting data out of each page"
      ],
      "metadata": {
        "id": "-siCoDQ8fTdG"
      }
    },
    {
      "cell_type": "code",
      "source": [
        "dataset=[]"
      ],
      "metadata": {
        "id": "fZ6TUwGlfflD"
      },
      "execution_count": 10,
      "outputs": []
    },
    {
      "cell_type": "markdown",
      "source": [
        "###For each page appending data"
      ],
      "metadata": {
        "id": "FcIPNNjfgGSd"
      }
    },
    {
      "cell_type": "markdown",
      "source": [
        "data in each row follows this order:\n",
        "Name Brand"
      ],
      "metadata": {
        "id": "lYIEgP-YgfH9"
      }
    },
    {
      "cell_type": "code",
      "source": [
        "def add_data(link):\n",
        "  webpage=requests.get(link,headers=HEADERS)\n",
        "  soup=BeautifulSoup(webpage.content,'html.parser')\n",
        "  data=[]\n",
        "  data.append(soup.find(\"span\",attrs={'id':'productTitle'}).text.strip())\n",
        "  data.append(soup.find(\"span\",attrs={'class':'a-size-base po-break-word'}).text.strip())\n",
        "  # table=soup.find(\"table\",attrs={'id':'HLCXComparisonTable'})\n",
        "  # print(table)\n",
        "  # if(table is not None):\n",
        "  #   row1=table.findall(\"tr\")\n",
        "  #   if(row1 is not None):\n",
        "  #     for row in row1:\n",
        "  #       col=row.findall(\"td\",attrs={'class':'base-item-column'})\n",
        "  #       if(col is not None):\n",
        "  #         data=data+list(map(lambda x:x.text.strip(),col))\n",
        "  # else:data +=[\"\"]*9\n",
        "  data.append(float(soup.find(\"span\",attrs={'class':'a-price-whole'}).text.strip().replace(',', '')))\n",
        "  return data"
      ],
      "metadata": {
        "id": "VHYcXr-5gLHT"
      },
      "execution_count": 11,
      "outputs": []
    },
    {
      "cell_type": "code",
      "source": [
        "print(len(links))\n",
        "for i in range(len(links)):\n",
        "  dataset.append(add_data(links[i]))\n",
        "  print(i)"
      ],
      "metadata": {
        "colab": {
          "base_uri": "https://localhost:8080/"
        },
        "id": "PAQMvX_Gijtz",
        "outputId": "2d88541c-c4b0-4eb3-b2db-32477a4de4f7"
      },
      "execution_count": 12,
      "outputs": [
        {
          "output_type": "stream",
          "name": "stdout",
          "text": [
            "32\n",
            "0\n",
            "1\n",
            "2\n",
            "3\n",
            "4\n",
            "5\n",
            "6\n",
            "7\n",
            "8\n",
            "9\n",
            "10\n",
            "11\n",
            "12\n",
            "13\n",
            "14\n",
            "15\n",
            "16\n",
            "17\n",
            "18\n",
            "19\n",
            "20\n",
            "21\n",
            "22\n",
            "23\n",
            "24\n",
            "25\n",
            "26\n",
            "27\n",
            "28\n",
            "29\n",
            "30\n",
            "31\n"
          ]
        }
      ]
    },
    {
      "cell_type": "code",
      "source": [
        "dataset"
      ],
      "metadata": {
        "colab": {
          "base_uri": "https://localhost:8080/"
        },
        "id": "kI6hdwGuk9mC",
        "outputId": "86ed56c9-632b-4eb1-a1a1-9695f23e4675"
      },
      "execution_count": 13,
      "outputs": [
        {
          "output_type": "execute_result",
          "data": {
            "text/plain": [
              "[['Samsung Galaxy M04 Light Green, 4GB RAM, 64GB Storage | Upto 8GB RAM with RAM Plus | MediaTek Helio P35 Octa-core Processor | 5000 mAh Battery | 13MP Dual Camera',\n",
              "  'Samsung',\n",
              "  8499.0],\n",
              " ['realme narzo 50i Prime (Dark Blue 4GB RAM+64GB Storage) Octa-core Processor | 5000 mAh Battery',\n",
              "  'Realme',\n",
              "  7399.0],\n",
              " ['realme narzo 50 (Speed Black, 6GB RAM+128GB Storage) Helio G96 Processor | 50MP AI Triple Camera | 120Hz Ultra Smooth Display',\n",
              "  'realme',\n",
              "  12499.0],\n",
              " ['Nokia C12 Android 12 (Go Edition) Smartphone, All-Day Battery, 4GB RAM (2GB RAM + 2GB Virtual RAM) + 64GB Capacity | Light Mint',\n",
              "  'Nokia',\n",
              "  5999.0],\n",
              " ['Samsung Galaxy M13 (Midnight Blue, 4GB, 64GB Storage) | 6000mAh Battery | Upto 8GB RAM with RAM Plus',\n",
              "  'Samsung',\n",
              "  10999.0],\n",
              " ['Samsung Galaxy M04 Dark Blue, 4GB RAM, 64GB Storage | Upto 8GB RAM with RAM Plus | MediaTek Helio P35 Octa-core Processor | 5000 mAh Battery | 13MP Dual Camera',\n",
              "  'Samsung',\n",
              "  8499.0],\n",
              " ['OnePlus 11 5G (Titan Black, 8GB RAM, 128GB Storage)', 'OnePlus', 56999.0],\n",
              " ['realme narzo N55 (Prime Black, 4GB+64GB) 33W Segment Fastest Charging | Super High-res 64MP Primary AI Camera',\n",
              "  'Realme',\n",
              "  10999.0],\n",
              " ['Redmi Note 12 5G Mystique Blue 4GB RAM 128GB ROM | 1st Phone with 120Hz Super AMOLED and Snapdragon® 4 Gen 1 | 48MP AI Triple Camera',\n",
              "  'Redmi',\n",
              "  16999.0],\n",
              " ['Samsung Galaxy M13 (Midnight Blue, 6GB, 128GB Storage) | 6000mAh Battery | Upto 12GB RAM with RAM Plus',\n",
              "  'Samsung',\n",
              "  12999.0],\n",
              " [\"iQOO Z6 Lite 5G (Stellar Green, 6GB RAM, 128GB Storage) with Charger | World's First Snapdragon 4 Gen 1 | Best in-Segment 120Hz Refresh Rate | Travel Adaptor Included in The Box\",\n",
              "  'iQOO',\n",
              "  13999.0],\n",
              " ['Samsung Galaxy M04 Dark Blue, 4GB RAM, 128GB Storage | Upto 8GB RAM with RAM Plus | MediaTek Helio P35 Octa-core Processor | 5000 mAh Battery | 13MP Dual Camera',\n",
              "  'Samsung',\n",
              "  9499.0],\n",
              " ['Nokia 110 Dual sim Keypad Phone with Wireless FM Radio, Free Earphone, Snake Game, Auto Call Recording, 1 Year Replacement Guarantee | Charcoal',\n",
              "  'Nokia',\n",
              "  1599.0],\n",
              " ['Samsung Galaxy M04 Light Green, 4GB RAM, 128GB Storage | Upto 8GB RAM with RAM Plus | MediaTek Helio P35 Octa-core Processor | 5000 mAh Battery | 13MP Dual Camera',\n",
              "  'Samsung',\n",
              "  9499.0],\n",
              " ['Nokia 2660 Flip 4G Volte keypad Phone with Dual SIM, Dual Screen, inbuilt MP3 Player & Wireless FM Radio | Black',\n",
              "  'Nokia',\n",
              "  4549.0],\n",
              " ['Redmi A2 (Aqua Blue, 4GB RAM, 64GB Storage) | Powerful Octa Core G36 Processor | Upto 7GB RAM | Large 16.5 cm HD+ Display with Massive 5000mAh Battery | 2 Years Warranty [Limited time Offer]',\n",
              "  'Redmi',\n",
              "  7999.0],\n",
              " ['Redmi 12C (Lavender Purple, 4GB RAM, 64GB Storage) | High Performance Mediatek Helio G85 | Big 17cm(6.71) HD+ Display with 5000mAh(typ) Battery',\n",
              "  'Redmi',\n",
              "  8799.0],\n",
              " ['realme narzo N55 (Prime Blue, 4GB+64GB) 33W Segment Fastest Charging | Super High-res 64MP Primary AI Camera',\n",
              "  'realme',\n",
              "  10999.0],\n",
              " ['Redmi Note 12 5G Mystique Blue 6GB RAM 128GB ROM | 1st Phone with 120Hz Super AMOLED and Snapdragon® 4 Gen 1 | 48MP AI Triple Camera',\n",
              "  'Redmi',\n",
              "  18999.0],\n",
              " ['realme narzo 50i Prime (Mint Green 3GB RAM+32GB Storage) Octa-core Processor | 5000 mAh Battery',\n",
              "  'Realme',\n",
              "  6799.0],\n",
              " ['Samsung Galaxy M13 (Aqua Green, 6GB, 128GB Storage) | 6000mAh Battery | Upto 12GB RAM with RAM Plus',\n",
              "  'Samsung',\n",
              "  12999.0],\n",
              " ['Redmi 12C (Royal Blue, 4GB RAM, 64GB Storage) | High Performance Mediatek Helio G85 | Big 17cm(6.71) HD+ Display with 5000mAh(typ) Battery',\n",
              "  'Redmi',\n",
              "  8799.0],\n",
              " ['Nokia 105 Single SIM, Keypad Mobile Phone with Wireless FM Radio | Blue',\n",
              "  'Nokia',\n",
              "  1299.0],\n",
              " ['Oppo A78 5G (Glowing Black, 8GB RAM, 128 Storage) | 5000 mAh Battery with 33W SUPERVOOC Charger| 50MP AI Camera | 90Hz Refresh Rate | with No Cost EMI/Additional Exchange Offers',\n",
              "  'Oppo',\n",
              "  18999.0],\n",
              " ['realme narzo 50i Prime (Dark Blue 4GB RAM+64GB Storage) Octa-core Processor | 5000 mAh Battery',\n",
              "  'realme',\n",
              "  7399.0],\n",
              " ['realme narzo 50 (Speed Black, 6GB RAM+128GB Storage) Helio G96 Processor | 50MP AI Triple Camera | 120Hz Ultra Smooth Display',\n",
              "  'Realme',\n",
              "  12499.0],\n",
              " ['Samsung Galaxy M13 (Midnight Blue, 4GB, 64GB Storage) | 6000mAh Battery | Upto 8GB RAM with RAM Plus',\n",
              "  'Samsung',\n",
              "  10999.0],\n",
              " ['Redmi A1 (Light Green, 2GB RAM 32GB ROM) | Segment Best AI Dual Cam | 5000mAh Battery | Leather Texture Design | Android 12',\n",
              "  'Redmi',\n",
              "  6299.0],\n",
              " ['Elzzi Microfiber Logo Cut Cover Compatible for iPhone 13 Case Cushion Liquid Soft Silicone Gel Rubber Phone Cases Non-Slip Full Body Protective Shockproof Back Cover 6.1 inch, Mist Blue',\n",
              "  'Elzzi',\n",
              "  376.0],\n",
              " ['EGOTUDE Silicone Soft Case Camera Protection Microfiber Lining Back Cover for iPhone 14 Pro Max (Deep Purple)',\n",
              "  'EGOTUDE',\n",
              "  279.0],\n",
              " ['elago Shockproof Liquid Silicone Slim Phone Case with Anti-Scratch Soft Microfiber Lining, Full Body Screen Camera Protective Case Cover, Compatible for iPhone 13 Pro Max 6.7 inches (Stone)',\n",
              "  'elago',\n",
              "  934.0],\n",
              " ['DIZORO Liquid Silicone Compatible for iPhone 14 Case Gel Rubber with Microfiber Lining Non-Slip Full Body Protective Shockproof Back Cover (Lilac, 6.1 inch)',\n",
              "  'DIZORO',\n",
              "  284.0]]"
            ]
          },
          "metadata": {},
          "execution_count": 13
        }
      ]
    },
    {
      "cell_type": "markdown",
      "source": [
        "#ML"
      ],
      "metadata": {
        "id": "RPQxWo_DwlCX"
      }
    },
    {
      "cell_type": "markdown",
      "source": [
        "##Preprocessing"
      ],
      "metadata": {
        "id": "ZQFAJyL7wqoF"
      }
    },
    {
      "cell_type": "code",
      "source": [
        "dataset=np.array(dataset)\n",
        "X = dataset[:,1:-1]\n",
        "y = dataset[:, -1:]"
      ],
      "metadata": {
        "id": "nVfH8EzuwoPV"
      },
      "execution_count": 46,
      "outputs": []
    },
    {
      "cell_type": "code",
      "source": [
        "print(X)"
      ],
      "metadata": {
        "colab": {
          "base_uri": "https://localhost:8080/"
        },
        "id": "kx7pULBtz07O",
        "outputId": "182c38fe-b7c3-4508-ca51-8f232487fe03"
      },
      "execution_count": 47,
      "outputs": [
        {
          "output_type": "stream",
          "name": "stdout",
          "text": [
            "[['Samsung']\n",
            " ['Realme']\n",
            " ['realme']\n",
            " ['Nokia']\n",
            " ['Samsung']\n",
            " ['Samsung']\n",
            " ['OnePlus']\n",
            " ['Realme']\n",
            " ['Redmi']\n",
            " ['Samsung']\n",
            " ['iQOO']\n",
            " ['Samsung']\n",
            " ['Nokia']\n",
            " ['Samsung']\n",
            " ['Nokia']\n",
            " ['Redmi']\n",
            " ['Redmi']\n",
            " ['realme']\n",
            " ['Redmi']\n",
            " ['Realme']\n",
            " ['Samsung']\n",
            " ['Redmi']\n",
            " ['Nokia']\n",
            " ['Oppo']\n",
            " ['realme']\n",
            " ['Realme']\n",
            " ['Samsung']\n",
            " ['Redmi']\n",
            " ['Elzzi']\n",
            " ['EGOTUDE']\n",
            " ['elago']\n",
            " ['DIZORO']]\n"
          ]
        }
      ]
    },
    {
      "cell_type": "code",
      "source": [
        "from sklearn.compose import ColumnTransformer\n",
        "from sklearn.preprocessing import OneHotEncoder\n",
        "ct = ColumnTransformer(transformers=[('encoder', OneHotEncoder(), [0])], remainder='passthrough')\n",
        "X=ct.fit_transform(X)"
      ],
      "metadata": {
        "id": "wGJCO2WMyAvV"
      },
      "execution_count": 48,
      "outputs": []
    },
    {
      "cell_type": "code",
      "source": [
        "\n",
        "X=X.toarray()"
      ],
      "metadata": {
        "id": "nHetD1tmztSZ"
      },
      "execution_count": 53,
      "outputs": []
    },
    {
      "cell_type": "code",
      "source": [
        "from sklearn.model_selection import train_test_split\n",
        "X_train, X_test, y_train, y_test = train_test_split(X, y, test_size = 0.2, random_state = 1)"
      ],
      "metadata": {
        "id": "0Wn8SVMAyQc3"
      },
      "execution_count": 54,
      "outputs": []
    },
    {
      "cell_type": "code",
      "source": [
        "from sklearn.preprocessing import StandardScaler\n",
        "sc = StandardScaler()\n",
        "X_train = sc.fit_transform(X_train)\n",
        "X_test = sc.transform(X_test)"
      ],
      "metadata": {
        "id": "SobZfBn0yUR8"
      },
      "execution_count": 55,
      "outputs": []
    },
    {
      "cell_type": "markdown",
      "source": [
        "##Training"
      ],
      "metadata": {
        "id": "kF8VBeH6yyi6"
      }
    },
    {
      "cell_type": "code",
      "source": [
        "from sklearn.ensemble import RandomForestRegressor\n",
        "regressor = RandomForestRegressor(n_estimators = 10, random_state = 0)\n",
        "regressor.fit(X_train, y_train)"
      ],
      "metadata": {
        "colab": {
          "base_uri": "https://localhost:8080/",
          "height": 129
        },
        "id": "P09R2G7ly0Ts",
        "outputId": "209d0a41-56c6-4eb7-bab1-5f2561e6d801"
      },
      "execution_count": 56,
      "outputs": [
        {
          "output_type": "stream",
          "name": "stderr",
          "text": [
            "<ipython-input-56-28f68d7399a7>:3: DataConversionWarning: A column-vector y was passed when a 1d array was expected. Please change the shape of y to (n_samples,), for example using ravel().\n",
            "  regressor.fit(X_train, y_train)\n"
          ]
        },
        {
          "output_type": "execute_result",
          "data": {
            "text/plain": [
              "RandomForestRegressor(n_estimators=10, random_state=0)"
            ],
            "text/html": [
              "<style>#sk-container-id-1 {color: black;background-color: white;}#sk-container-id-1 pre{padding: 0;}#sk-container-id-1 div.sk-toggleable {background-color: white;}#sk-container-id-1 label.sk-toggleable__label {cursor: pointer;display: block;width: 100%;margin-bottom: 0;padding: 0.3em;box-sizing: border-box;text-align: center;}#sk-container-id-1 label.sk-toggleable__label-arrow:before {content: \"▸\";float: left;margin-right: 0.25em;color: #696969;}#sk-container-id-1 label.sk-toggleable__label-arrow:hover:before {color: black;}#sk-container-id-1 div.sk-estimator:hover label.sk-toggleable__label-arrow:before {color: black;}#sk-container-id-1 div.sk-toggleable__content {max-height: 0;max-width: 0;overflow: hidden;text-align: left;background-color: #f0f8ff;}#sk-container-id-1 div.sk-toggleable__content pre {margin: 0.2em;color: black;border-radius: 0.25em;background-color: #f0f8ff;}#sk-container-id-1 input.sk-toggleable__control:checked~div.sk-toggleable__content {max-height: 200px;max-width: 100%;overflow: auto;}#sk-container-id-1 input.sk-toggleable__control:checked~label.sk-toggleable__label-arrow:before {content: \"▾\";}#sk-container-id-1 div.sk-estimator input.sk-toggleable__control:checked~label.sk-toggleable__label {background-color: #d4ebff;}#sk-container-id-1 div.sk-label input.sk-toggleable__control:checked~label.sk-toggleable__label {background-color: #d4ebff;}#sk-container-id-1 input.sk-hidden--visually {border: 0;clip: rect(1px 1px 1px 1px);clip: rect(1px, 1px, 1px, 1px);height: 1px;margin: -1px;overflow: hidden;padding: 0;position: absolute;width: 1px;}#sk-container-id-1 div.sk-estimator {font-family: monospace;background-color: #f0f8ff;border: 1px dotted black;border-radius: 0.25em;box-sizing: border-box;margin-bottom: 0.5em;}#sk-container-id-1 div.sk-estimator:hover {background-color: #d4ebff;}#sk-container-id-1 div.sk-parallel-item::after {content: \"\";width: 100%;border-bottom: 1px solid gray;flex-grow: 1;}#sk-container-id-1 div.sk-label:hover label.sk-toggleable__label {background-color: #d4ebff;}#sk-container-id-1 div.sk-serial::before {content: \"\";position: absolute;border-left: 1px solid gray;box-sizing: border-box;top: 0;bottom: 0;left: 50%;z-index: 0;}#sk-container-id-1 div.sk-serial {display: flex;flex-direction: column;align-items: center;background-color: white;padding-right: 0.2em;padding-left: 0.2em;position: relative;}#sk-container-id-1 div.sk-item {position: relative;z-index: 1;}#sk-container-id-1 div.sk-parallel {display: flex;align-items: stretch;justify-content: center;background-color: white;position: relative;}#sk-container-id-1 div.sk-item::before, #sk-container-id-1 div.sk-parallel-item::before {content: \"\";position: absolute;border-left: 1px solid gray;box-sizing: border-box;top: 0;bottom: 0;left: 50%;z-index: -1;}#sk-container-id-1 div.sk-parallel-item {display: flex;flex-direction: column;z-index: 1;position: relative;background-color: white;}#sk-container-id-1 div.sk-parallel-item:first-child::after {align-self: flex-end;width: 50%;}#sk-container-id-1 div.sk-parallel-item:last-child::after {align-self: flex-start;width: 50%;}#sk-container-id-1 div.sk-parallel-item:only-child::after {width: 0;}#sk-container-id-1 div.sk-dashed-wrapped {border: 1px dashed gray;margin: 0 0.4em 0.5em 0.4em;box-sizing: border-box;padding-bottom: 0.4em;background-color: white;}#sk-container-id-1 div.sk-label label {font-family: monospace;font-weight: bold;display: inline-block;line-height: 1.2em;}#sk-container-id-1 div.sk-label-container {text-align: center;}#sk-container-id-1 div.sk-container {/* jupyter's `normalize.less` sets `[hidden] { display: none; }` but bootstrap.min.css set `[hidden] { display: none !important; }` so we also need the `!important` here to be able to override the default hidden behavior on the sphinx rendered scikit-learn.org. See: https://github.com/scikit-learn/scikit-learn/issues/21755 */display: inline-block !important;position: relative;}#sk-container-id-1 div.sk-text-repr-fallback {display: none;}</style><div id=\"sk-container-id-1\" class=\"sk-top-container\"><div class=\"sk-text-repr-fallback\"><pre>RandomForestRegressor(n_estimators=10, random_state=0)</pre><b>In a Jupyter environment, please rerun this cell to show the HTML representation or trust the notebook. <br />On GitHub, the HTML representation is unable to render, please try loading this page with nbviewer.org.</b></div><div class=\"sk-container\" hidden><div class=\"sk-item\"><div class=\"sk-estimator sk-toggleable\"><input class=\"sk-toggleable__control sk-hidden--visually\" id=\"sk-estimator-id-1\" type=\"checkbox\" checked><label for=\"sk-estimator-id-1\" class=\"sk-toggleable__label sk-toggleable__label-arrow\">RandomForestRegressor</label><div class=\"sk-toggleable__content\"><pre>RandomForestRegressor(n_estimators=10, random_state=0)</pre></div></div></div></div></div>"
            ]
          },
          "metadata": {},
          "execution_count": 56
        }
      ]
    },
    {
      "cell_type": "code",
      "source": [
        "y_pred = regressor.predict(X_test)\n",
        "print(y_pred,y_test)"
      ],
      "metadata": {
        "colab": {
          "base_uri": "https://localhost:8080/"
        },
        "id": "ViMnYUa1y8oK",
        "outputId": "1efa7fb0-29dd-4181-d958-8367d0b0bbbd"
      },
      "execution_count": 60,
      "outputs": [
        {
          "output_type": "stream",
          "name": "stdout",
          "text": [
            "[11222.          3774.83333333  3774.83333333 11222.\n",
            "  8297.64285714  9909.         11222.        ] [['6299.0']\n",
            " ['5999.0']\n",
            " ['1299.0']\n",
            " ['18999.0']\n",
            " ['18999.0']\n",
            " ['10999.0']\n",
            " ['8799.0']]\n"
          ]
        }
      ]
    }
  ]
}